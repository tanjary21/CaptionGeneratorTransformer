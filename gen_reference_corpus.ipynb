{
 "cells": [
  {
   "cell_type": "code",
   "execution_count": 1,
   "id": "b762ba40",
   "metadata": {},
   "outputs": [],
   "source": [
    "using Knet, Test, Base.Iterators, Printf, LinearAlgebra, Random, CUDA, IterTools, DelimitedFiles, Statistics\n",
    "Knet.atype() = KnetArray{Float32}\n",
    "using Images, TestImages, OffsetArrays, Colors\n",
    "using Plots"
   ]
  },
  {
   "cell_type": "code",
   "execution_count": 2,
   "id": "18ca4272",
   "metadata": {},
   "outputs": [
    {
     "data": {
      "text/plain": [
       "prepare_batch (generic function with 1 method)"
      ]
     },
     "execution_count": 2,
     "metadata": {},
     "output_type": "execute_result"
    }
   ],
   "source": [
    "include(\"models/transformer.jl\")\n",
    "include(\"dataloader/dataloader.jl\")"
   ]
  },
  {
   "cell_type": "code",
   "execution_count": 6,
   "id": "6f5b351a",
   "metadata": {},
   "outputs": [
    {
     "data": {
      "text/plain": [
       "Vocab(Dict(\"foal\" => 3735, \"barbed\" => 2735, \"bigs\" => 4873, \"ont\" => 4874, \"weating\" => 4875, \"citytwo\" => 3736, \"enjoy\" => 1119, \"backgroundfour\" => 4876, \"fountainmany\" => 4877, \"chocolate\" => 1473…), [\"<eos>\", \"<unk>\", \"a\", \"in\", \"the\", \"on\", \"dog\", \"is\", \"and\", \"with\"  …  \"polebrown\", \"paintingkid\", \"backflips\", \"universitya\", \"colourfully\", \"introduces\", \"joint\", \"railingman\", \"frisbree\", \"panelling\"], 2, 1, split)"
      ]
     },
     "execution_count": 6,
     "metadata": {},
     "output_type": "execute_result"
    }
   ],
   "source": [
    "# read  files\n",
    "annotations = readdlm(\"archive/annotations_train.txt\", '\\t', String, '\\n')[2:end,2:end]\n",
    "\n",
    "# prepare vocab object\n",
    "bow = \"\"\n",
    "for sent in annotations[:,2]#\n",
    "    bow *= sent\n",
    "end\n",
    "#bow = split(bow)\n",
    "# bow wil be one giant sentence, corpus.\n",
    "v = Vocab(bow)\n",
    "\n",
    "# # Initialize Iterators\n",
    "# img_iterator = ImgReader(\"archive/img_dirs_val.txt\",load_and_process)\n",
    "# tgt_iterator = TextReader(\"archive/ann_caps_val.txt\",v)\n",
    "\n",
    "# # simulate retrieving one batch\n",
    "# img_state, tgt_state = nothing, nothing\n",
    "# flag = true\n",
    "# iter = 1\n",
    "# batch = get_next_batch(img_iterator, tgt_iterator, img_state, tgt_state)\n",
    "\n",
    "# batch_imgs, batch_indices, img_state, tgt_state = batch\n",
    "# batch_imgs, batch_indices, labels = prepare_batch(batch, tgt_iterator)\n",
    "# println(iter)"
   ]
  },
  {
   "cell_type": "code",
   "execution_count": 3,
   "id": "c9213bae",
   "metadata": {
    "collapsed": true
   },
   "outputs": [
    {
     "data": {
      "text/plain": [
       "Transformer(512, ImageEncoderMLP(20, 512, Linear(P(Knet.KnetArrays.KnetMatrix{Float32}(512,1200)), P(Knet.KnetArrays.KnetVector{Float32}(512)))), SentEncoder(Embed(P(Knet.KnetArrays.KnetMatrix{Float32}(512,9391)))), EncoderLayer[EncoderLayer(LayerNorm(P(Knet.KnetArrays.KnetMatrix{Float32}(512,1)), P(Knet.KnetArrays.KnetMatrix{Float32}(512,1))), Linear(P(Knet.KnetArrays.KnetMatrix{Float32}(512,512)), P(Knet.KnetArrays.KnetVector{Float32}(512))), Linear(P(Knet.KnetArrays.KnetMatrix{Float32}(512,512)), P(Knet.KnetArrays.KnetVector{Float32}(512))), Linear(P(Knet.KnetArrays.KnetMatrix{Float32}(512,512)), P(Knet.KnetArrays.KnetVector{Float32}(512))), LayerNorm(P(Knet.KnetArrays.KnetMatrix{Float32}(512,1)), P(Knet.KnetArrays.KnetMatrix{Float32}(512,1))), Linear(P(Knet.KnetArrays.KnetMatrix{Float32}(512,512)), P(Knet.KnetArrays.KnetVector{Float32}(512)))), EncoderLayer(LayerNorm(P(Knet.KnetArrays.KnetMatrix{Float32}(512,1)), P(Knet.KnetArrays.KnetMatrix{Float32}(512,1))), Linear(P(Knet.KnetArrays.KnetMatrix{Float32}(512,512)), P(Knet.KnetArrays.KnetVector{Float32}(512))), Linear(P(Knet.KnetArrays.KnetMatrix{Float32}(512,512)), P(Knet.KnetArrays.KnetVector{Float32}(512))), Linear(P(Knet.KnetArrays.KnetMatrix{Float32}(512,512)), P(Knet.KnetArrays.KnetVector{Float32}(512))), LayerNorm(P(Knet.KnetArrays.KnetMatrix{Float32}(512,1)), P(Knet.KnetArrays.KnetMatrix{Float32}(512,1))), Linear(P(Knet.KnetArrays.KnetMatrix{Float32}(512,512)), P(Knet.KnetArrays.KnetVector{Float32}(512)))), EncoderLayer(LayerNorm(P(Knet.KnetArrays.KnetMatrix{Float32}(512,1)), P(Knet.KnetArrays.KnetMatrix{Float32}(512,1))), Linear(P(Knet.KnetArrays.KnetMatrix{Float32}(512,512)), P(Knet.KnetArrays.KnetVector{Float32}(512))), Linear(P(Knet.KnetArrays.KnetMatrix{Float32}(512,512)), P(Knet.KnetArrays.KnetVector{Float32}(512))), Linear(P(Knet.KnetArrays.KnetMatrix{Float32}(512,512)), P(Knet.KnetArrays.KnetVector{Float32}(512))), LayerNorm(P(Knet.KnetArrays.KnetMatrix{Float32}(512,1)), P(Knet.KnetArrays.KnetMatrix{Float32}(512,1))), Linear(P(Knet.KnetArrays.KnetMatrix{Float32}(512,512)), P(Knet.KnetArrays.KnetVector{Float32}(512)))), EncoderLayer(LayerNorm(P(Knet.KnetArrays.KnetMatrix{Float32}(512,1)), P(Knet.KnetArrays.KnetMatrix{Float32}(512,1))), Linear(P(Knet.KnetArrays.KnetMatrix{Float32}(512,512)), P(Knet.KnetArrays.KnetVector{Float32}(512))), Linear(P(Knet.KnetArrays.KnetMatrix{Float32}(512,512)), P(Knet.KnetArrays.KnetVector{Float32}(512))), Linear(P(Knet.KnetArrays.KnetMatrix{Float32}(512,512)), P(Knet.KnetArrays.KnetVector{Float32}(512))), LayerNorm(P(Knet.KnetArrays.KnetMatrix{Float32}(512,1)), P(Knet.KnetArrays.KnetMatrix{Float32}(512,1))), Linear(P(Knet.KnetArrays.KnetMatrix{Float32}(512,512)), P(Knet.KnetArrays.KnetVector{Float32}(512)))), EncoderLayer(LayerNorm(P(Knet.KnetArrays.KnetMatrix{Float32}(512,1)), P(Knet.KnetArrays.KnetMatrix{Float32}(512,1))), Linear(P(Knet.KnetArrays.KnetMatrix{Float32}(512,512)), P(Knet.KnetArrays.KnetVector{Float32}(512))), Linear(P(Knet.KnetArrays.KnetMatrix{Float32}(512,512)), P(Knet.KnetArrays.KnetVector{Float32}(512))), Linear(P(Knet.KnetArrays.KnetMatrix{Float32}(512,512)), P(Knet.KnetArrays.KnetVector{Float32}(512))), LayerNorm(P(Knet.KnetArrays.KnetMatrix{Float32}(512,1)), P(Knet.KnetArrays.KnetMatrix{Float32}(512,1))), Linear(P(Knet.KnetArrays.KnetMatrix{Float32}(512,512)), P(Knet.KnetArrays.KnetVector{Float32}(512)))), EncoderLayer(LayerNorm(P(Knet.KnetArrays.KnetMatrix{Float32}(512,1)), P(Knet.KnetArrays.KnetMatrix{Float32}(512,1))), Linear(P(Knet.KnetArrays.KnetMatrix{Float32}(512,512)), P(Knet.KnetArrays.KnetVector{Float32}(512))), Linear(P(Knet.KnetArrays.KnetMatrix{Float32}(512,512)), P(Knet.KnetArrays.KnetVector{Float32}(512))), Linear(P(Knet.KnetArrays.KnetMatrix{Float32}(512,512)), P(Knet.KnetArrays.KnetVector{Float32}(512))), LayerNorm(P(Knet.KnetArrays.KnetMatrix{Float32}(512,1)), P(Knet.KnetArrays.KnetMatrix{Float32}(512,1))), Linear(P(Knet.KnetArrays.KnetMatrix{Float32}(512,512)), P(Knet.KnetArrays.KnetVector{Float32}(512))))], DecoderLayer[DecoderLayer(LayerNorm(P(Knet.KnetArrays.KnetMatrix{Float32}(512,1)), P(Knet.KnetArrays.KnetMatrix{Float32}(512,1))), Linear(P(Knet.KnetArrays.KnetMatrix{Float32}(512,512)), P(Knet.KnetArrays.KnetVector{Float32}(512))), Linear(P(Knet.KnetArrays.KnetMatrix{Float32}(512,512)), P(Knet.KnetArrays.KnetVector{Float32}(512))), Linear(P(Knet.KnetArrays.KnetMatrix{Float32}(512,512)), P(Knet.KnetArrays.KnetVector{Float32}(512))), LayerNorm(P(Knet.KnetArrays.KnetMatrix{Float32}(512,1)), P(Knet.KnetArrays.KnetMatrix{Float32}(512,1))), Linear(P(Knet.KnetArrays.KnetMatrix{Float32}(512,512)), P(Knet.KnetArrays.KnetVector{Float32}(512))), Linear(P(Knet.KnetArrays.KnetMatrix{Float32}(512,512)), P(Knet.KnetArrays.KnetVector{Float32}(512))), Linear(P(Knet.KnetArrays.KnetMatrix{Float32}(512,512)), P(Knet.KnetArrays.KnetVector{Float32}(512))), LayerNorm(P(Knet.KnetArrays.KnetMatrix{Float32}(512,1)), P(Knet.KnetArrays.KnetMatrix{Float32}(512,1))), Linear(P(Knet.KnetArrays.KnetMatrix{Float32}(512,512)), P(Knet.KnetArrays.KnetVector{Float32}(512)))), DecoderLayer(LayerNorm(P(Knet.KnetArrays.KnetMatrix{Float32}(512,1)), P(Knet.KnetArrays.KnetMatrix{Float32}(512,1))), Linear(P(Knet.KnetArrays.KnetMatrix{Float32}(512,512)), P(Knet.KnetArrays.KnetVector{Float32}(512))), Linear(P(Knet.KnetArrays.KnetMatrix{Float32}(512,512)), P(Knet.KnetArrays.KnetVector{Float32}(512))), Linear(P(Knet.KnetArrays.KnetMatrix{Float32}(512,512)), P(Knet.KnetArrays.KnetVector{Float32}(512))), LayerNorm(P(Knet.KnetArrays.KnetMatrix{Float32}(512,1)), P(Knet.KnetArrays.KnetMatrix{Float32}(512,1))), Linear(P(Knet.KnetArrays.KnetMatrix{Float32}(512,512)), P(Knet.KnetArrays.KnetVector{Float32}(512))), Linear(P(Knet.KnetArrays.KnetMatrix{Float32}(512,512)), P(Knet.KnetArrays.KnetVector{Float32}(512))), Linear(P(Knet.KnetArrays.KnetMatrix{Float32}(512,512)), P(Knet.KnetArrays.KnetVector{Float32}(512))), LayerNorm(P(Knet.KnetArrays.KnetMatrix{Float32}(512,1)), P(Knet.KnetArrays.KnetMatrix{Float32}(512,1))), Linear(P(Knet.KnetArrays.KnetMatrix{Float32}(512,512)), P(Knet.KnetArrays.KnetVector{Float32}(512)))), DecoderLayer(LayerNorm(P(Knet.KnetArrays.KnetMatrix{Float32}(512,1)), P(Knet.KnetArrays.KnetMatrix{Float32}(512,1))), Linear(P(Knet.KnetArrays.KnetMatrix{Float32}(512,512)), P(Knet.KnetArrays.KnetVector{Float32}(512))), Linear(P(Knet.KnetArrays.KnetMatrix{Float32}(512,512)), P(Knet.KnetArrays.KnetVector{Float32}(512))), Linear(P(Knet.KnetArrays.KnetMatrix{Float32}(512,512)), P(Knet.KnetArrays.KnetVector{Float32}(512))), LayerNorm(P(Knet.KnetArrays.KnetMatrix{Float32}(512,1)), P(Knet.KnetArrays.KnetMatrix{Float32}(512,1))), Linear(P(Knet.KnetArrays.KnetMatrix{Float32}(512,512)), P(Knet.KnetArrays.KnetVector{Float32}(512))), Linear(P(Knet.KnetArrays.KnetMatrix{Float32}(512,512)), P(Knet.KnetArrays.KnetVector{Float32}(512))), Linear(P(Knet.KnetArrays.KnetMatrix{Float32}(512,512)), P(Knet.KnetArrays.KnetVector{Float32}(512))), LayerNorm(P(Knet.KnetArrays.KnetMatrix{Float32}(512,1)), P(Knet.KnetArrays.KnetMatrix{Float32}(512,1))), Linear(P(Knet.KnetArrays.KnetMatrix{Float32}(512,512)), P(Knet.KnetArrays.KnetVector{Float32}(512)))), DecoderLayer(LayerNorm(P(Knet.KnetArrays.KnetMatrix{Float32}(512,1)), P(Knet.KnetArrays.KnetMatrix{Float32}(512,1))), Linear(P(Knet.KnetArrays.KnetMatrix{Float32}(512,512)), P(Knet.KnetArrays.KnetVector{Float32}(512))), Linear(P(Knet.KnetArrays.KnetMatrix{Float32}(512,512)), P(Knet.KnetArrays.KnetVector{Float32}(512))), Linear(P(Knet.KnetArrays.KnetMatrix{Float32}(512,512)), P(Knet.KnetArrays.KnetVector{Float32}(512))), LayerNorm(P(Knet.KnetArrays.KnetMatrix{Float32}(512,1)), P(Knet.KnetArrays.KnetMatrix{Float32}(512,1))), Linear(P(Knet.KnetArrays.KnetMatrix{Float32}(512,512)), P(Knet.KnetArrays.KnetVector{Float32}(512))), Linear(P(Knet.KnetArrays.KnetMatrix{Float32}(512,512)), P(Knet.KnetArrays.KnetVector{Float32}(512))), Linear(P(Knet.KnetArrays.KnetMatrix{Float32}(512,512)), P(Knet.KnetArrays.KnetVector{Float32}(512))), LayerNorm(P(Knet.KnetArrays.KnetMatrix{Float32}(512,1)), P(Knet.KnetArrays.KnetMatrix{Float32}(512,1))), Linear(P(Knet.KnetArrays.KnetMatrix{Float32}(512,512)), P(Knet.KnetArrays.KnetVector{Float32}(512)))), DecoderLayer(LayerNorm(P(Knet.KnetArrays.KnetMatrix{Float32}(512,1)), P(Knet.KnetArrays.KnetMatrix{Float32}(512,1))), Linear(P(Knet.KnetArrays.KnetMatrix{Float32}(512,512)), P(Knet.KnetArrays.KnetVector{Float32}(512))), Linear(P(Knet.KnetArrays.KnetMatrix{Float32}(512,512)), P(Knet.KnetArrays.KnetVector{Float32}(512))), Linear(P(Knet.KnetArrays.KnetMatrix{Float32}(512,512)), P(Knet.KnetArrays.KnetVector{Float32}(512))), LayerNorm(P(Knet.KnetArrays.KnetMatrix{Float32}(512,1)), P(Knet.KnetArrays.KnetMatrix{Float32}(512,1))), Linear(P(Knet.KnetArrays.KnetMatrix{Float32}(512,512)), P(Knet.KnetArrays.KnetVector{Float32}(512))), Linear(P(Knet.KnetArrays.KnetMatrix{Float32}(512,512)), P(Knet.KnetArrays.KnetVector{Float32}(512))), Linear(P(Knet.KnetArrays.KnetMatrix{Float32}(512,512)), P(Knet.KnetArrays.KnetVector{Float32}(512))), LayerNorm(P(Knet.KnetArrays.KnetMatrix{Float32}(512,1)), P(Knet.KnetArrays.KnetMatrix{Float32}(512,1))), Linear(P(Knet.KnetArrays.KnetMatrix{Float32}(512,512)), P(Knet.KnetArrays.KnetVector{Float32}(512)))), DecoderLayer(LayerNorm(P(Knet.KnetArrays.KnetMatrix{Float32}(512,1)), P(Knet.KnetArrays.KnetMatrix{Float32}(512,1))), Linear(P(Knet.KnetArrays.KnetMatrix{Float32}(512,512)), P(Knet.KnetArrays.KnetVector{Float32}(512))), Linear(P(Knet.KnetArrays.KnetMatrix{Float32}(512,512)), P(Knet.KnetArrays.KnetVector{Float32}(512))), Linear(P(Knet.KnetArrays.KnetMatrix{Float32}(512,512)), P(Knet.KnetArrays.KnetVector{Float32}(512))), LayerNorm(P(Knet.KnetArrays.KnetMatrix{Float32}(512,1)), P(Knet.KnetArrays.KnetMatrix{Float32}(512,1))), Linear(P(Knet.KnetArrays.KnetMatrix{Float32}(512,512)), P(Knet.KnetArrays.KnetVector{Float32}(512))), Linear(P(Knet.KnetArrays.KnetMatrix{Float32}(512,512)), P(Knet.KnetArrays.KnetVector{Float32}(512))), Linear(P(Knet.KnetArrays.KnetMatrix{Float32}(512,512)), P(Knet.KnetArrays.KnetVector{Float32}(512))), LayerNorm(P(Knet.KnetArrays.KnetMatrix{Float32}(512,1)), P(Knet.KnetArrays.KnetMatrix{Float32}(512,1))), Linear(P(Knet.KnetArrays.KnetMatrix{Float32}(512,512)), P(Knet.KnetArrays.KnetVector{Float32}(512))))], Linear(P(Knet.KnetArrays.KnetMatrix{Float32}(9391,512)), P(Knet.KnetArrays.KnetVector{Float32}(9391))), 1)"
      ]
     },
     "execution_count": 3,
     "metadata": {},
     "output_type": "execute_result"
    }
   ],
   "source": [
    "pretrained = Knet.load(\"ckpts2/transformer_mlp_512_epoch100.jld2\",\"transformer\")"
   ]
  },
  {
   "cell_type": "code",
   "execution_count": 4,
   "id": "b4e0ace5",
   "metadata": {},
   "outputs": [
    {
     "data": {
      "text/plain": [
       "\"val\""
      ]
     },
     "execution_count": 4,
     "metadata": {},
     "output_type": "execute_result"
    }
   ],
   "source": [
    "evalon = \"val\""
   ]
  },
  {
   "cell_type": "code",
   "execution_count": 7,
   "id": "ccab6ccc",
   "metadata": {},
   "outputs": [],
   "source": [
    "# ONE VALIDATION EPOCH LOOP\n",
    "pred_corpus = []\n",
    "img_state, tgt_state = nothing, nothing\n",
    "img_iterator = ImgReader(\"archive/img_dirs_$evalon.txt\",load_and_process)\n",
    "tgt_iterator = TextReader(\"archive/ann_caps_$evalon.txt\",v)\n",
    "while true #iter < 100 #flag !== nothing\n",
    "    batch = get_next_batch(img_iterator, tgt_iterator, img_state, tgt_state)\n",
    "    if batch == nothing\n",
    "        break\n",
    "    end\n",
    "    batch_imgs, batch_indices, img_state, tgt_state = batch\n",
    "    batch_imgs, batch_indices, labels = prepare_batch(batch, tgt_iterator)\n",
    "    batch_imgs_nomalized = 2.0 .* batch_imgs .- 1.0\n",
    "\n",
    "    word_probs = pretrained(batch_imgs_nomalized, batch_indices)\n",
    "    \n",
    "    argmaxprobs = Array(mapslices(argmax,Array(word_probs),dims=1)[1,:,:])\n",
    "    pred_words = tgt_iterator.vocab.i2w[argmaxprobs]\n",
    "    pred_words = permutedims(pred_words,(2,1)) # each sentence prediction is now a row\n",
    "    \n",
    "    push!(pred_corpus, pred_words)   \n",
    "\n",
    "end"
   ]
  },
  {
   "cell_type": "code",
   "execution_count": 13,
   "id": "2c846153",
   "metadata": {},
   "outputs": [],
   "source": [
    "open(\"bleu_files/pred_corpus.txt\", \"w\") do file\n",
    "    for batch_corpus in pred_corpus\n",
    "        for sent_i in 1:size(batch_corpus,1)\n",
    "            for word in batch_corpus[sent_i,:]\n",
    "                print(file, word, ' ')\n",
    "            end\n",
    "            print(file, '\\n')\n",
    "        end\n",
    "    end\n",
    "end"
   ]
  },
  {
   "cell_type": "code",
   "execution_count": 14,
   "id": "a64b0859",
   "metadata": {},
   "outputs": [
    {
     "name": "stderr",
     "output_type": "stream",
     "text": [
      "\u001b[91m\u001b[1mUnhandled Task \u001b[22m\u001b[39m\u001b[91m\u001b[1mERROR: \u001b[22m\u001b[39mInterruptException:\n",
      "Stacktrace:\n",
      " [1] \u001b[0m\u001b[1mpoptask\u001b[22m\u001b[0m\u001b[1m(\u001b[22m\u001b[90mW\u001b[39m::\u001b[0mBase.InvasiveLinkedListSynchronized\u001b[90m{Task}\u001b[39m\u001b[0m\u001b[1m)\u001b[22m\n",
      "\u001b[90m   @ \u001b[39m\u001b[90mBase\u001b[39m \u001b[90m./\u001b[39m\u001b[90m\u001b[4mtask.jl:827\u001b[24m\u001b[39m\n",
      " [2] \u001b[0m\u001b[1mwait\u001b[22m\u001b[0m\u001b[1m(\u001b[22m\u001b[0m\u001b[1m)\u001b[22m\n",
      "\u001b[90m   @ \u001b[39m\u001b[90mBase\u001b[39m \u001b[90m./\u001b[39m\u001b[90m\u001b[4mtask.jl:836\u001b[24m\u001b[39m\n",
      " [3] \u001b[0m\u001b[1mwait\u001b[22m\u001b[0m\u001b[1m(\u001b[22m\u001b[90mc\u001b[39m::\u001b[0mBase.GenericCondition\u001b[90m{Base.Threads.SpinLock}\u001b[39m\u001b[0m\u001b[1m)\u001b[22m\n",
      "\u001b[90m   @ \u001b[39m\u001b[90mBase\u001b[39m \u001b[90m./\u001b[39m\u001b[90m\u001b[4mcondition.jl:123\u001b[24m\u001b[39m\n",
      " [4] \u001b[0m\u001b[1m_trywait\u001b[22m\u001b[0m\u001b[1m(\u001b[22m\u001b[90mt\u001b[39m::\u001b[0mTimer\u001b[0m\u001b[1m)\u001b[22m\n",
      "\u001b[90m   @ \u001b[39m\u001b[90mBase\u001b[39m \u001b[90m./\u001b[39m\u001b[90m\u001b[4masyncevent.jl:118\u001b[24m\u001b[39m\n",
      " [5] \u001b[0m\u001b[1mwait\u001b[22m\n",
      "\u001b[90m   @ \u001b[39m\u001b[90m./\u001b[39m\u001b[90m\u001b[4masyncevent.jl:136\u001b[24m\u001b[39m\u001b[90m [inlined]\u001b[39m\n",
      " [6] \u001b[0m\u001b[1msleep\u001b[22m\u001b[0m\u001b[1m(\u001b[22m\u001b[90msec\u001b[39m::\u001b[0mInt64\u001b[0m\u001b[1m)\u001b[22m\n",
      "\u001b[90m   @ \u001b[39m\u001b[90mBase\u001b[39m \u001b[90m./\u001b[39m\u001b[90m\u001b[4masyncevent.jl:221\u001b[24m\u001b[39m\n",
      " [7] \u001b[0m\u001b[1mpool_cleanup\u001b[22m\u001b[0m\u001b[1m(\u001b[22m\u001b[0m\u001b[1m)\u001b[22m\n",
      "\u001b[90m   @ \u001b[39m\u001b[35mCUDA\u001b[39m \u001b[90m~/.julia/packages/CUDA/t62lT/src/\u001b[39m\u001b[90m\u001b[4mpool.jl:126\u001b[24m\u001b[39m\n",
      " [8] \u001b[0m\u001b[1m(::CUDA.var\"#190#191\")\u001b[22m\u001b[0m\u001b[1m(\u001b[22m\u001b[0m\u001b[1m)\u001b[22m\n",
      "\u001b[90m   @ \u001b[39m\u001b[35mCUDA\u001b[39m \u001b[90m./\u001b[39m\u001b[90m\u001b[4mthreadingconstructs.jl:178\u001b[24m\u001b[39m\n"
     ]
    }
   ],
   "source": [
    "# read  files\n",
    "annotations = readdlm(\"archive/annotations_$evalon.txt\", '\\t', String, '\\n')[2:end,2:end]\n",
    "\n",
    "# prepare vocab object\n",
    "ref_corpus=[]\n",
    "for sent in annotations[:,2]#\n",
    "    push!(ref_corpus, sent)\n",
    "end\n",
    "\n",
    "open(\"bleu_files/ref_corpus.txt\", \"w\") do file2\n",
    "    \n",
    "    for sent in ref_corpus\n",
    "        println(file2, sent)\n",
    "    end\n",
    "end"
   ]
  },
  {
   "cell_type": "code",
   "execution_count": null,
   "id": "c349fd9e",
   "metadata": {},
   "outputs": [],
   "source": []
  }
 ],
 "metadata": {
  "kernelspec": {
   "display_name": "Julia 1.7.2",
   "language": "julia",
   "name": "julia-1.7"
  },
  "language_info": {
   "file_extension": ".jl",
   "mimetype": "application/julia",
   "name": "julia",
   "version": "1.7.2"
  }
 },
 "nbformat": 4,
 "nbformat_minor": 5
}

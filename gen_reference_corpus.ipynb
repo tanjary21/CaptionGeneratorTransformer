{
 "cells": [
  {
   "cell_type": "code",
   "execution_count": null,
   "id": "b762ba40",
   "metadata": {},
   "outputs": [],
   "source": [
    "using Knet, Test, Base.Iterators, Printf, LinearAlgebra, Random, CUDA, IterTools, DelimitedFiles, Statistics\n",
    "Knet.atype() = KnetArray{Float32}\n",
    "using Images, TestImages, OffsetArrays, Colors\n",
    "using Plots"
   ]
  },
  {
   "cell_type": "code",
   "execution_count": null,
   "id": "18ca4272",
   "metadata": {},
   "outputs": [],
   "source": [
    "include(\"models/transformer.jl\")\n",
    "include(\"dataloader/dataloader.jl\")"
   ]
  },
  {
   "cell_type": "code",
   "execution_count": null,
   "id": "6f5b351a",
   "metadata": {},
   "outputs": [],
   "source": [
    "# read  files\n",
    "annotations = readdlm(\"archive/annotations_train.txt\", '\\t', String, '\\n')[2:end,2:end]\n",
    "\n",
    "# prepare vocab object\n",
    "bow = \"\"\n",
    "for sent in annotations[:,2]#\n",
    "    bow *= sent\n",
    "end\n",
    "#bow = split(bow)\n",
    "# bow wil be one giant sentence, corpus.\n",
    "v = Vocab(bow)\n",
    "\n",
    "# # Initialize Iterators\n",
    "# img_iterator = ImgReader(\"archive/img_dirs_val.txt\",load_and_process)\n",
    "# tgt_iterator = TextReader(\"archive/ann_caps_val.txt\",v)\n",
    "\n",
    "# # simulate retrieving one batch\n",
    "# img_state, tgt_state = nothing, nothing\n",
    "# flag = true\n",
    "# iter = 1\n",
    "# batch = get_next_batch(img_iterator, tgt_iterator, img_state, tgt_state)\n",
    "\n",
    "# batch_imgs, batch_indices, img_state, tgt_state = batch\n",
    "# batch_imgs, batch_indices, labels = prepare_batch(batch, tgt_iterator)\n",
    "# println(iter)"
   ]
  },
  {
   "cell_type": "code",
   "execution_count": null,
   "id": "c9213bae",
   "metadata": {},
   "outputs": [],
   "source": [
    "pretrained = Knet.load(\"ckpts2/transformer_mlp_512_epoch100.jld2\",\"transformer\")"
   ]
  },
  {
   "cell_type": "code",
   "execution_count": null,
   "id": "b4e0ace5",
   "metadata": {},
   "outputs": [],
   "source": [
    "evalon = \"val\""
   ]
  },
  {
   "cell_type": "code",
   "execution_count": null,
   "id": "ccab6ccc",
   "metadata": {},
   "outputs": [],
   "source": [
    "# ONE VALIDATION EPOCH LOOP\n",
    "pred_corpus = []\n",
    "img_state, tgt_state = nothing, nothing\n",
    "img_iterator = ImgReader(\"archive/img_dirs_$evalon.txt\",load_and_process)\n",
    "tgt_iterator = TextReader(\"archive/ann_caps_$evalon.txt\",v)\n",
    "while true #iter < 100 #flag !== nothing\n",
    "    batch = get_next_batch(img_iterator, tgt_iterator, img_state, tgt_state)\n",
    "    if batch == nothing\n",
    "        break\n",
    "    end\n",
    "    batch_imgs, batch_indices, img_state, tgt_state = batch\n",
    "    batch_imgs, batch_indices, labels = prepare_batch(batch, tgt_iterator)\n",
    "    batch_imgs_nomalized = 2.0 .* batch_imgs .- 1.0\n",
    "\n",
    "    word_probs = pretrained(batch_imgs_nomalized, batch_indices)\n",
    "    \n",
    "    argmaxprobs = Array(mapslices(argmax,Array(word_probs),dims=1)[1,:,:])\n",
    "    pred_words = tgt_iterator.vocab.i2w[argmaxprobs]\n",
    "    pred_words = permutedims(pred_words,(2,1)) # each sentence prediction is now a row\n",
    "    \n",
    "    push!(pred_corpus, pred_words)   \n",
    "\n",
    "end"
   ]
  },
  {
   "cell_type": "code",
   "execution_count": null,
   "id": "2c846153",
   "metadata": {},
   "outputs": [],
   "source": [
    "open(\"bleu_files/pred_corpus.txt\", \"w\") do file\n",
    "    for batch_corpus in pred_corpus\n",
    "        for sent_i in 1:size(batch_corpus,1)\n",
    "            for word in batch_corpus[sent_i,:]\n",
    "                print(file, word, ' ')\n",
    "            end\n",
    "            print(file, '\\n')\n",
    "        end\n",
    "    end\n",
    "end"
   ]
  },
  {
   "cell_type": "code",
   "execution_count": null,
   "id": "a64b0859",
   "metadata": {},
   "outputs": [],
   "source": [
    "# read  files\n",
    "annotations = readdlm(\"archive/annotations_$evalon.txt\", '\\t', String, '\\n')[2:end,2:end]\n",
    "\n",
    "# prepare vocab object\n",
    "ref_corpus=[]\n",
    "for sent in annotations[:,2]#\n",
    "    push!(ref_corpus, sent)\n",
    "end\n",
    "\n",
    "open(\"bleu_files/ref_corpus.txt\", \"w\") do file2\n",
    "    \n",
    "    for sent in ref_corpus\n",
    "        println(file2, sent)\n",
    "    end\n",
    "end"
   ]
  },
  {
   "cell_type": "code",
   "execution_count": null,
   "id": "c349fd9e",
   "metadata": {},
   "outputs": [],
   "source": []
  }
 ],
 "metadata": {
  "kernelspec": {
   "display_name": "Julia 1.7.2",
   "language": "julia",
   "name": "julia-1.7"
  },
  "language_info": {
   "file_extension": ".jl",
   "mimetype": "application/julia",
   "name": "julia",
   "version": "1.7.2"
  }
 },
 "nbformat": 4,
 "nbformat_minor": 5
}

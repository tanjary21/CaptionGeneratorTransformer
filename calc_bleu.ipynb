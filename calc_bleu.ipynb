{
 "cells": [
  {
   "cell_type": "code",
   "execution_count": null,
   "id": "372bdd2f",
   "metadata": {},
   "outputs": [],
   "source": [
    "import torch\n",
    "from torchtext.data.metrics import bleu_score\n",
    "import pandas as pd\n",
    "import re"
   ]
  },
  {
   "cell_type": "code",
   "execution_count": null,
   "id": "7953730c",
   "metadata": {},
   "outputs": [],
   "source": [
    "with open('bleu_files/pred_corpus.txt') as f:\n",
    "    pred_corpus = [line.strip() for line in f.readlines()]\n",
    "pred_corpus = [re.split(r' |<unk>|<eos>', sent)  for sent in pred_corpus]\n",
    "\n",
    "with open('bleu_files/ref_corpus.txt') as f:\n",
    "    ref_corpus = [line.strip() for line in f.readlines()]\n",
    "ref_corpus = [re.split(r' |<unk>|<eos>', sent) for sent in ref_corpus]"
   ]
  },
  {
   "cell_type": "code",
   "execution_count": null,
   "id": "6b5af1e7",
   "metadata": {},
   "outputs": [],
   "source": [
    "bleu_score(ref_corpus[:-11], pred_corpus)"
   ]
  },
  {
   "cell_type": "code",
   "execution_count": null,
   "id": "86323ee7",
   "metadata": {},
   "outputs": [],
   "source": [
    "bleu_score(pred_corpus, ref_corpus[:-11])"
   ]
  },
  {
   "cell_type": "code",
   "execution_count": null,
   "id": "92023bfe",
   "metadata": {},
   "outputs": [],
   "source": [
    "len(ref_corpus[:-11])"
   ]
  },
  {
   "cell_type": "code",
   "execution_count": null,
   "id": "fdaf5b25",
   "metadata": {},
   "outputs": [],
   "source": [
    "len(pred_corpus)"
   ]
  },
  {
   "cell_type": "code",
   "execution_count": null,
   "id": "82d22072",
   "metadata": {},
   "outputs": [],
   "source": [
    "pred_corpus"
   ]
  },
  {
   "cell_type": "code",
   "execution_count": null,
   "id": "86950f51",
   "metadata": {},
   "outputs": [],
   "source": []
  }
 ],
 "metadata": {
  "kernelspec": {
   "display_name": "Python 3 (ipykernel)",
   "language": "python",
   "name": "python3"
  },
  "language_info": {
   "codemirror_mode": {
    "name": "ipython",
    "version": 3
   },
   "file_extension": ".py",
   "mimetype": "text/x-python",
   "name": "python",
   "nbconvert_exporter": "python",
   "pygments_lexer": "ipython3",
   "version": "3.9.7"
  }
 },
 "nbformat": 4,
 "nbformat_minor": 5
}
